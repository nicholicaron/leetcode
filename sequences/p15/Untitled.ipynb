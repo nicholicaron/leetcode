{
 "cells": [
  {
   "cell_type": "code",
   "execution_count": 5,
   "id": "cdf077b0",
   "metadata": {},
   "outputs": [],
   "source": [
    "def threesum(nums: list[int]) -> list[list[int]]:\n",
    "    seen = []\n",
    "    nums.sort()\n",
    "    for l_index in range(len(nums) - 2):\n",
    "        m_index = l_index + 1\n",
    "        r_index = len(nums) - 1\n",
    "        while m_index < r_index:\n",
    "            m_r_sum = nums[m_index] + nums[r_index]\n",
    "            rem = -(nums[l_index]) # target is 0\n",
    "            if rem > m_r_sum:\n",
    "                m_index += 1\n",
    "            elif rem < m_r_sum:\n",
    "                r_index -= 1\n",
    "            else: # target = nums[l_index] + nums[m_index] + nums[r_index]\n",
    "                seen.append([l_index, m_index, r_index])\n",
    "    return seen"
   ]
  },
  {
   "cell_type": "code",
   "execution_count": null,
   "id": "db73215d",
   "metadata": {},
   "outputs": [],
   "source": [
    "nums = [-1,0,1,2,-1,-4]\n",
    "res = threesum(nums)\n",
    "res\""
   ]
  },
  {
   "cell_type": "code",
   "execution_count": null,
   "id": "5db85e2d",
   "metadata": {},
   "outputs": [],
   "source": []
  }
 ],
 "metadata": {
  "kernelspec": {
   "display_name": "Python 3 (ipykernel)",
   "language": "python",
   "name": "python3"
  },
  "language_info": {
   "codemirror_mode": {
    "name": "ipython",
    "version": 3
   },
   "file_extension": ".py",
   "mimetype": "text/x-python",
   "name": "python",
   "nbconvert_exporter": "python",
   "pygments_lexer": "ipython3",
   "version": "3.11.3"
  }
 },
 "nbformat": 4,
 "nbformat_minor": 5
}
